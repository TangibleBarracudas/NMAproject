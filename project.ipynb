{
  "nbformat": 4,
  "nbformat_minor": 0,
  "metadata": {
    "colab": {
      "name": "mainproject.ipynb",
      "provenance": [],
      "collapsed_sections": []
    },
    "kernelspec": {
      "name": "python3",
      "display_name": "Python 3"
    },
    "language_info": {
      "name": "python"
    }
  },
  "cells": [
    {
      "cell_type": "markdown",
      "metadata": {
        "id": "d3EQFwoe4Glu"
      },
      "source": [
        "# Main Project notebook"
      ]
    },
    {
      "cell_type": "code",
      "metadata": {
        "colab": {
          "base_uri": "https://localhost:8080/"
        },
        "id": "WPljxWLw4Hmv",
        "outputId": "1965653a-ba4a-4f14-cfa8-6015932368bc"
      },
      "source": [
        "print (\"Hello Tangible Barracudas\")"
      ],
      "execution_count": 1,
      "outputs": [
        {
          "output_type": "stream",
          "text": [
            "Hello Tangible Barracudas\n"
          ],
          "name": "stdout"
        }
      ]
    }
  ]
}